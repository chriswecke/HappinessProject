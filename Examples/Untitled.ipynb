{
 "cells": [
  {
   "cell_type": "code",
   "execution_count": 1,
   "metadata": {},
   "outputs": [],
   "source": [
    "import pandas as pd\n",
    "from sqlalchemy import create_engine"
   ]
  },
  {
   "cell_type": "code",
   "execution_count": 2,
   "metadata": {},
   "outputs": [
    {
     "data": {
      "text/html": [
       "<div>\n",
       "<style scoped>\n",
       "    .dataframe tbody tr th:only-of-type {\n",
       "        vertical-align: middle;\n",
       "    }\n",
       "\n",
       "    .dataframe tbody tr th {\n",
       "        vertical-align: top;\n",
       "    }\n",
       "\n",
       "    .dataframe thead th {\n",
       "        text-align: right;\n",
       "    }\n",
       "</style>\n",
       "<table border=\"1\" class=\"dataframe\">\n",
       "  <thead>\n",
       "    <tr style=\"text-align: right;\">\n",
       "      <th></th>\n",
       "      <th>Region</th>\n",
       "      <th>Country or region</th>\n",
       "      <th>Score</th>\n",
       "      <th>GDP per capita</th>\n",
       "      <th>Social support</th>\n",
       "      <th>Healthy life expectancy</th>\n",
       "      <th>Freedom to make life choices</th>\n",
       "      <th>Generosity</th>\n",
       "      <th>Perceptions of corruption</th>\n",
       "      <th>Year</th>\n",
       "    </tr>\n",
       "  </thead>\n",
       "  <tbody>\n",
       "    <tr>\n",
       "      <th>0</th>\n",
       "      <td>Southern Asia</td>\n",
       "      <td>Afghanistan</td>\n",
       "      <td>3.632</td>\n",
       "      <td>0.332</td>\n",
       "      <td>0.537</td>\n",
       "      <td>0.255</td>\n",
       "      <td>0.085</td>\n",
       "      <td>0.191</td>\n",
       "      <td>0.036</td>\n",
       "      <td>2018</td>\n",
       "    </tr>\n",
       "    <tr>\n",
       "      <th>1</th>\n",
       "      <td>Southern Asia</td>\n",
       "      <td>Afghanistan</td>\n",
       "      <td>3.203</td>\n",
       "      <td>0.350</td>\n",
       "      <td>0.517</td>\n",
       "      <td>0.361</td>\n",
       "      <td>0.000</td>\n",
       "      <td>0.158</td>\n",
       "      <td>0.025</td>\n",
       "      <td>2019</td>\n",
       "    </tr>\n",
       "    <tr>\n",
       "      <th>2</th>\n",
       "      <td>Southern Europe</td>\n",
       "      <td>Albania</td>\n",
       "      <td>4.586</td>\n",
       "      <td>0.916</td>\n",
       "      <td>0.817</td>\n",
       "      <td>0.790</td>\n",
       "      <td>0.419</td>\n",
       "      <td>0.149</td>\n",
       "      <td>0.032</td>\n",
       "      <td>2018</td>\n",
       "    </tr>\n",
       "    <tr>\n",
       "      <th>3</th>\n",
       "      <td>Southern Europe</td>\n",
       "      <td>Albania</td>\n",
       "      <td>4.719</td>\n",
       "      <td>0.947</td>\n",
       "      <td>0.848</td>\n",
       "      <td>0.874</td>\n",
       "      <td>0.383</td>\n",
       "      <td>0.178</td>\n",
       "      <td>0.027</td>\n",
       "      <td>2019</td>\n",
       "    </tr>\n",
       "    <tr>\n",
       "      <th>4</th>\n",
       "      <td>Northern Africa</td>\n",
       "      <td>Algeria</td>\n",
       "      <td>5.295</td>\n",
       "      <td>0.979</td>\n",
       "      <td>1.154</td>\n",
       "      <td>0.687</td>\n",
       "      <td>0.077</td>\n",
       "      <td>0.055</td>\n",
       "      <td>0.135</td>\n",
       "      <td>2018</td>\n",
       "    </tr>\n",
       "  </tbody>\n",
       "</table>\n",
       "</div>"
      ],
      "text/plain": [
       "            Region Country or region  Score  GDP per capita  Social support  \\\n",
       "0    Southern Asia       Afghanistan  3.632           0.332           0.537   \n",
       "1    Southern Asia       Afghanistan  3.203           0.350           0.517   \n",
       "2  Southern Europe           Albania  4.586           0.916           0.817   \n",
       "3  Southern Europe           Albania  4.719           0.947           0.848   \n",
       "4  Northern Africa           Algeria  5.295           0.979           1.154   \n",
       "\n",
       "   Healthy life expectancy  Freedom to make life choices  Generosity  \\\n",
       "0                    0.255                         0.085       0.191   \n",
       "1                    0.361                         0.000       0.158   \n",
       "2                    0.790                         0.419       0.149   \n",
       "3                    0.874                         0.383       0.178   \n",
       "4                    0.687                         0.077       0.055   \n",
       "\n",
       "   Perceptions of corruption  Year  \n",
       "0                      0.036  2018  \n",
       "1                      0.025  2019  \n",
       "2                      0.032  2018  \n",
       "3                      0.027  2019  \n",
       "4                      0.135  2018  "
      ]
     },
     "execution_count": 2,
     "metadata": {},
     "output_type": "execute_result"
    }
   ],
   "source": [
    "csv_file = \"Combined Data.csv\"\n",
    "happiness_data_df = pd.read_csv(csv_file)\n",
    "happiness_data_df.head()"
   ]
  },
  {
   "cell_type": "code",
   "execution_count": 7,
   "metadata": {},
   "outputs": [],
   "source": [
    "engine = create_engine(\"sqlite:///happiness.sqlite\")\n",
    "happiness_data_df.to_sql(name='happiness', con=engine, if_exists='replace', index=False)"
   ]
  },
  {
   "cell_type": "code",
   "execution_count": null,
   "metadata": {},
   "outputs": [],
   "source": []
  },
  {
   "cell_type": "code",
   "execution_count": null,
   "metadata": {},
   "outputs": [],
   "source": []
  },
  {
   "cell_type": "code",
   "execution_count": null,
   "metadata": {},
   "outputs": [],
   "source": []
  }
 ],
 "metadata": {
  "kernelspec": {
   "display_name": "Python 3.6.10 64-bit ('bcs': conda)",
   "language": "python",
   "name": "python361064bitbcsconda9956bb7450484f49881ea0c9e482447b"
  },
  "language_info": {
   "codemirror_mode": {
    "name": "ipython",
    "version": 3
   },
   "file_extension": ".py",
   "mimetype": "text/x-python",
   "name": "python",
   "nbconvert_exporter": "python",
   "pygments_lexer": "ipython3",
   "version": "3.6.10"
  }
 },
 "nbformat": 4,
 "nbformat_minor": 4
}
