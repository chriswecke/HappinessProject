{
 "cells": [
  {
   "cell_type": "code",
   "execution_count": 1,
   "metadata": {},
   "outputs": [],
   "source": [
    "import pandas as pd\n",
    "from sqlalchemy import create_engine"
   ]
  },
  {
   "cell_type": "code",
   "execution_count": 2,
   "metadata": {},
   "outputs": [
    {
     "output_type": "execute_result",
     "data": {
      "text/plain": [
       "  ISO2 ISO3             INDEX           Region      Country  Score    GDP  \\\n",
       "0   AF  AFG  Afghanistan_2018    Southern Asia  Afghanistan  3.632  0.332   \n",
       "1   AF  AFG  Afghanistan_2019    Southern Asia  Afghanistan  3.203  0.350   \n",
       "2   AL  ALB      Albania_2018  Southern Europe      Albania  4.586  0.916   \n",
       "3   AL  ALB      Albania_2019  Southern Europe      Albania  4.719  0.947   \n",
       "4   DZ  DZA      Algeria_2018  Northern Africa      Algeria  5.295  0.979   \n",
       "\n",
       "   Social_Support  Life_Exp  Freedom_Choice  Generosity  Corruption  Year  \n",
       "0           0.537     0.255           0.085       0.191       0.036  2018  \n",
       "1           0.517     0.361           0.000       0.158       0.025  2019  \n",
       "2           0.817     0.790           0.419       0.149       0.032  2018  \n",
       "3           0.848     0.874           0.383       0.178       0.027  2019  \n",
       "4           1.154     0.687           0.077       0.055       0.135  2018  "
      ],
      "text/html": "<div>\n<style scoped>\n    .dataframe tbody tr th:only-of-type {\n        vertical-align: middle;\n    }\n\n    .dataframe tbody tr th {\n        vertical-align: top;\n    }\n\n    .dataframe thead th {\n        text-align: right;\n    }\n</style>\n<table border=\"1\" class=\"dataframe\">\n  <thead>\n    <tr style=\"text-align: right;\">\n      <th></th>\n      <th>ISO2</th>\n      <th>ISO3</th>\n      <th>INDEX</th>\n      <th>Region</th>\n      <th>Country</th>\n      <th>Score</th>\n      <th>GDP</th>\n      <th>Social_Support</th>\n      <th>Life_Exp</th>\n      <th>Freedom_Choice</th>\n      <th>Generosity</th>\n      <th>Corruption</th>\n      <th>Year</th>\n    </tr>\n  </thead>\n  <tbody>\n    <tr>\n      <th>0</th>\n      <td>AF</td>\n      <td>AFG</td>\n      <td>Afghanistan_2018</td>\n      <td>Southern Asia</td>\n      <td>Afghanistan</td>\n      <td>3.632</td>\n      <td>0.332</td>\n      <td>0.537</td>\n      <td>0.255</td>\n      <td>0.085</td>\n      <td>0.191</td>\n      <td>0.036</td>\n      <td>2018</td>\n    </tr>\n    <tr>\n      <th>1</th>\n      <td>AF</td>\n      <td>AFG</td>\n      <td>Afghanistan_2019</td>\n      <td>Southern Asia</td>\n      <td>Afghanistan</td>\n      <td>3.203</td>\n      <td>0.350</td>\n      <td>0.517</td>\n      <td>0.361</td>\n      <td>0.000</td>\n      <td>0.158</td>\n      <td>0.025</td>\n      <td>2019</td>\n    </tr>\n    <tr>\n      <th>2</th>\n      <td>AL</td>\n      <td>ALB</td>\n      <td>Albania_2018</td>\n      <td>Southern Europe</td>\n      <td>Albania</td>\n      <td>4.586</td>\n      <td>0.916</td>\n      <td>0.817</td>\n      <td>0.790</td>\n      <td>0.419</td>\n      <td>0.149</td>\n      <td>0.032</td>\n      <td>2018</td>\n    </tr>\n    <tr>\n      <th>3</th>\n      <td>AL</td>\n      <td>ALB</td>\n      <td>Albania_2019</td>\n      <td>Southern Europe</td>\n      <td>Albania</td>\n      <td>4.719</td>\n      <td>0.947</td>\n      <td>0.848</td>\n      <td>0.874</td>\n      <td>0.383</td>\n      <td>0.178</td>\n      <td>0.027</td>\n      <td>2019</td>\n    </tr>\n    <tr>\n      <th>4</th>\n      <td>DZ</td>\n      <td>DZA</td>\n      <td>Algeria_2018</td>\n      <td>Northern Africa</td>\n      <td>Algeria</td>\n      <td>5.295</td>\n      <td>0.979</td>\n      <td>1.154</td>\n      <td>0.687</td>\n      <td>0.077</td>\n      <td>0.055</td>\n      <td>0.135</td>\n      <td>2018</td>\n    </tr>\n  </tbody>\n</table>\n</div>"
     },
     "metadata": {},
     "execution_count": 2
    }
   ],
   "source": [
    "csv_file = \"Combined Data.csv\"\n",
    "happiness_data_df = pd.read_csv(csv_file)\n",
    "happiness_data_df.head()"
   ]
  },
  {
   "cell_type": "code",
   "execution_count": 14,
   "metadata": {},
   "outputs": [],
   "source": [
    "engine = create_engine(\"sqlite:///happiness.sqlite\")\n",
    "happiness_data_df.to_sql(name='happiness', con=engine, if_exists='replace', index=False)"
   ]
  },
  {
   "cell_type": "code",
   "execution_count": null,
   "metadata": {},
   "outputs": [],
   "source": []
  },
  {
   "cell_type": "code",
   "execution_count": null,
   "metadata": {},
   "outputs": [],
   "source": []
  },
  {
   "cell_type": "code",
   "execution_count": null,
   "metadata": {},
   "outputs": [],
   "source": []
  }
 ],
 "metadata": {
  "kernelspec": {
   "display_name": "Python 3.6.10 64-bit ('bcs': conda)",
   "language": "python",
   "name": "python361064bitbcsconda9956bb7450484f49881ea0c9e482447b"
  },
  "language_info": {
   "codemirror_mode": {
    "name": "ipython",
    "version": 3
   },
   "file_extension": ".py",
   "mimetype": "text/x-python",
   "name": "python",
   "nbconvert_exporter": "python",
   "pygments_lexer": "ipython3",
   "version": "3.6.10-final"
  }
 },
 "nbformat": 4,
 "nbformat_minor": 4
}